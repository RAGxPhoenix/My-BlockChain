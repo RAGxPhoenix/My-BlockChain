{
 "cells": [
  {
   "cell_type": "code",
   "execution_count": 1,
   "metadata": {},
   "outputs": [],
   "source": [
    "from hashlib import sha256\n",
    "import time\n",
    "\n",
    "def updateHash(*args):\n",
    "    to_be_hashed = \"\"\n",
    "    hashfunc = sha256()\n",
    "    for arg in args:\n",
    "        to_be_hashed += str(arg)\n",
    "    hashfunc.update(to_be_hashed.encode('utf-8'))\n",
    "\n",
    "    return hashfunc.hexdigest()\n",
    "\n",
    "class Block:\n",
    "    def __init__(self, data, block_number=0):\n",
    "        self.data = data\n",
    "        self.timestamp = time.time()  # Instance variable for unique timestamp\n",
    "        self.nonce = 0\n",
    "        self.block_number = block_number\n",
    "        self.previous_hash = \"0\" * 64\n",
    "        \n",
    "    def return_time_of_block(self):\n",
    "        return (self.timestamp)\n",
    "    \n",
    "    def hash(self):\n",
    "        return updateHash(self.block_number, self.timestamp, self.nonce, self.data, self.previous_hash)\n",
    "\n",
    "    def __str__(self):\n",
    "        return (\n",
    "            f\"Block Number: {self.block_number}\\n\"\n",
    "            f\"Time Stamp: {self.timestamp}\\n\"\n",
    "            f\"Nonce: {self.nonce}\\n\"\n",
    "            f\"Data: {self.data}\\n\"\n",
    "            f\"Previous Hash: {self.previous_hash}\\n\"\n",
    "            f\"Current Hash: {self.hash()}\\n\"\n",
    "        )\n",
    "\n",
    "class Blockchain:\n",
    "    difficulty = 5\n",
    "\n",
    "    def __init__(self):\n",
    "        self.chain = []\n",
    "\n",
    "    '''def add(self, block):\n",
    "        self.chain.append({\n",
    "            'Block Number': block.block_number,\n",
    "            'Time Stamp': block.timestamp,\n",
    "            'Nonce': block.nonce,\n",
    "            'Data': block.data,\n",
    "            'Previous Hash': block.previous_hash,\n",
    "            'Current Hash': block.hash()\n",
    "        })'''\n",
    "    def add(self, block):\n",
    "        self.chain.append(block)\n",
    "\n",
    "    def mine(self, block):\n",
    "        # Update the block's previous_hash to the last block's hash in the chain\n",
    "        if self.chain:\n",
    "            block.previous_hash = self.chain[-1].hash()\n",
    "\n",
    "        # Proof-of-work: find a nonce that produces the required difficulty\n",
    "        while True:\n",
    "            if block.hash()[:self.difficulty] == '0' * self.difficulty:\n",
    "                self.add(block)\n",
    "                break\n",
    "            else:\n",
    "                block.nonce += 1\n",
    "\n",
    "    def isValid(self):\n",
    "        for hash in range(1,len(self.chain)):\n",
    "            previous = self.chain[hash].previous_hash\n",
    "            current = self.chain[hash-1].hash()\n",
    "\n",
    "            if previous != current or current[:self.difficulty] != '0' * self.difficulty:\n",
    "                return False\n",
    "                    \n",
    "        return True            \n"
   ]
  },
  {
   "cell_type": "code",
   "execution_count": 29,
   "metadata": {},
   "outputs": [],
   "source": [
    "my_bc = Blockchain()"
   ]
  },
  {
   "cell_type": "code",
   "execution_count": 30,
   "metadata": {},
   "outputs": [],
   "source": [
    "data1 = ['A -> B 2BTC']\n",
    "block1 = Block(data1,1)\n",
    "my_bc.mine(block1)"
   ]
  },
  {
   "cell_type": "code",
   "execution_count": 31,
   "metadata": {},
   "outputs": [],
   "source": [
    "data2 = [\"A -> C 3BTC\"]\n",
    "block2 = Block(data2,2)\n",
    "my_bc.mine(block2)"
   ]
  },
  {
   "cell_type": "code",
   "execution_count": 32,
   "metadata": {},
   "outputs": [],
   "source": [
    "data3 = ['C -> A 7BTC']\n",
    "block3 = Block(data3,3)\n",
    "my_bc.mine(block3)"
   ]
  },
  {
   "cell_type": "code",
   "execution_count": 34,
   "metadata": {},
   "outputs": [],
   "source": [
    "data4 = [['Z -> D 6BTC'],['S -> Q 4 BTC']]\n",
    "block4 = Block(data4,4)\n",
    "my_bc.mine(block4)"
   ]
  },
  {
   "cell_type": "code",
   "execution_count": 35,
   "metadata": {},
   "outputs": [
    {
     "name": "stdout",
     "output_type": "stream",
     "text": [
      "Block Number: 1\n",
      "Time Stamp: 1735218799.475193\n",
      "Nonce: 221530\n",
      "Data: ['A -> B 2BTC']\n",
      "Previous Hash: 0000000000000000000000000000000000000000000000000000000000000000\n",
      "Current Hash: 00000616255566297d268529125d8f2476814ed0923ff664024f5be890bb94d8\n",
      "\n",
      "Block Number: 2\n",
      "Time Stamp: 1735218801.653593\n",
      "Nonce: 1282783\n",
      "Data: ['A -> C 3BTC']\n",
      "Previous Hash: 00000616255566297d268529125d8f2476814ed0923ff664024f5be890bb94d8\n",
      "Current Hash: 000001556e69531498fd8aa6a57d88f7ea9bdb9529d970052fb8215f7087180b\n",
      "\n",
      "Block Number: 3\n",
      "Time Stamp: 1735218807.480336\n",
      "Nonce: 143724\n",
      "Data: ['C -> A 7BTC']\n",
      "Previous Hash: 000001556e69531498fd8aa6a57d88f7ea9bdb9529d970052fb8215f7087180b\n",
      "Current Hash: 00000d4549d59911961ba961fa35342b1dc60b503a9697fa615bec636d135708\n",
      "\n",
      "Block Number: 4\n",
      "Time Stamp: 1735218878.796444\n",
      "Nonce: 336347\n",
      "Data: [['Z -> D 6BTC'], ['S -> Q 4 BTC']]\n",
      "Previous Hash: 00000d4549d59911961ba961fa35342b1dc60b503a9697fa615bec636d135708\n",
      "Current Hash: 00000fd448f0dab6c0ad66f6a7359381350307acc9046b59d136003c89cd2bb2\n",
      "\n"
     ]
    }
   ],
   "source": [
    "for i in my_bc.chain:\n",
    "        print(i)"
   ]
  },
  {
   "cell_type": "code",
   "execution_count": null,
   "metadata": {},
   "outputs": [],
   "source": []
  }
 ],
 "metadata": {
  "kernelspec": {
   "display_name": "base",
   "language": "python",
   "name": "python3"
  },
  "language_info": {
   "codemirror_mode": {
    "name": "ipython",
    "version": 3
   },
   "file_extension": ".py",
   "mimetype": "text/x-python",
   "name": "python",
   "nbconvert_exporter": "python",
   "pygments_lexer": "ipython3",
   "version": "3.11.5"
  },
  "orig_nbformat": 4
 },
 "nbformat": 4,
 "nbformat_minor": 2
}
